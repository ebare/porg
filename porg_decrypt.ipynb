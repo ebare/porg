{
 "cells": [
  {
   "cell_type": "markdown",
   "metadata": {},
   "source": [
    "# Porg Decrypt\n",
    "\n",
    "Hello,\n",
    "\n",
    "At great cost our undercover agents have infiltrated the systems of the evil porg-napping ring. They managed to exfiltrate 2 files.  \n",
    "\n",
    "We believe these files are tar files which have been xor encypted with a repeating three byte key.\n",
    "\n",
    "Our agents also found a post it note with `c0fefe` written on it, we think it is a key to one of the files.  \n",
    "\n",
    "We have no information on what the other key might be, though we suspect that the filenames are the md5sum of the 3 byte binary key.\n",
    "\n",
    "Please write a program that can discover the key and decrypt both of these files so we can rescue porg!\n"
   ]
  },
  {
   "cell_type": "markdown",
   "metadata": {},
   "source": [
    "### Define helper functions and imports"
   ]
  },
  {
   "cell_type": "code",
   "execution_count": 42,
   "metadata": {},
   "outputs": [],
   "source": [
    "from itertools import cycle\n",
    "from hashlib import md5\n",
    "from os.path import basename"
   ]
  },
  {
   "cell_type": "code",
   "execution_count": 47,
   "metadata": {},
   "outputs": [],
   "source": [
    "def key_to_bytes(key):\n",
    "    if isinstance(key, tuple) or isinstance(key, list):\n",
    "        return bytes([int(b) for b in key])\n",
    "    if isinstance(key, bytes):\n",
    "        return key\n",
    "    return bytes([int(key[i:i+2], 16) for i in range(0, len(key), 2)])"
   ]
  },
  {
   "cell_type": "code",
   "execution_count": 48,
   "metadata": {},
   "outputs": [],
   "source": [
    "def md5_match(match_str, key):\n",
    "    return md5(key_to_bytes(key)).hexdigest() == match_str"
   ]
  },
  {
   "cell_type": "code",
   "execution_count": 60,
   "metadata": {},
   "outputs": [],
   "source": [
    "# validate helper functions\n",
    "assert key_to_bytes('c0fefe') == b'\\xc0\\xfe\\xfe'\n",
    "assert key_to_bytes(('192','254','254')) == b'\\xc0\\xfe\\xfe'\n",
    "\n",
    "assert md5_match('fde519a6ed032c4cd4e9fbab9be61890', 'c0fefe')\n",
    "assert md5_match('fde519a6ed032c4cd4e9fbab9be61890', (192, 254, 254))\n",
    "\n",
    "assert not md5_match('fde519a6ed032c4cd4e9fbab9be61890', 'c0feff')\n",
    "assert not md5_match('fde519a6ed032c4cd4e9fbab9be61890', (192, 254, 255))"
   ]
  },
  {
   "cell_type": "code",
   "execution_count": 61,
   "metadata": {},
   "outputs": [
    {
     "name": "stdout",
     "output_type": "stream",
     "text": [
      "Found match for file:fde519a6ed032c4cd4e9fbab9be61890.tar.enc\n"
     ]
    }
   ],
   "source": [
    "# check to see if our known key matches a filename\n",
    "from os import listdir\n",
    "known_key = 'c0fefe'\n",
    "for file_name in listdir('.'):\n",
    "    if md5_match(file_name.split('.')[0], known_key):\n",
    "        print('Found match for file:' + file_name)\n",
    "        break"
   ]
  },
  {
   "cell_type": "markdown",
   "metadata": {},
   "source": [
    "### Take a look at the first file with a known key"
   ]
  },
  {
   "cell_type": "code",
   "execution_count": 50,
   "metadata": {},
   "outputs": [],
   "source": [
    "def peek(file_nm, key, num_bytes=256):\n",
    "    key = key_to_bytes(key)\n",
    "    with open(file_nm, 'rb') as in_file:\n",
    "        raw_data = in_file.read(num_bytes)\n",
    "        return ''.join(map(lambda raw_byte, key_byte: chr(raw_byte ^ key_byte), raw_data, cycle(key)))"
   ]
  },
  {
   "cell_type": "code",
   "execution_count": 51,
   "metadata": {},
   "outputs": [
    {
     "data": {
      "text/plain": [
       "'ransom.pdf\\x00\\x00\\x00\\x00\\x00\\x00\\x00\\x00\\x00\\x00\\x00\\x00\\x00\\x00\\x00\\x00\\x00\\x00\\x00\\x00\\x00\\x00\\x00\\x00\\x00\\x00\\x00\\x00\\x00\\x00\\x00\\x00\\x00\\x00\\x00\\x00\\x00\\x00\\x00\\x00\\x00\\x00\\x00\\x00\\x00\\x00\\x00\\x00\\x00\\x00\\x00\\x00\\x00\\x00\\x00\\x00\\x00\\x00\\x00\\x00\\x00\\x00\\x00\\x00\\x00\\x00\\x00\\x00\\x00\\x00\\x00\\x00\\x00\\x00\\x00\\x00\\x00\\x00\\x00\\x00\\x00\\x00\\x00\\x00\\x00\\x00\\x00\\x00\\x00\\x000000744\\x00\\x80\\x00\\x00\\x00r\\x0bÓ\\t\\x80\\x00\\x00\\x00r\\x0bÓ\\t00000522563\\x0013337323762\\x00012461\\x00 0\\x00\\x00\\x00\\x00\\x00\\x00\\x00\\x00\\x00\\x00\\x00\\x00\\x00\\x00\\x00\\x00\\x00\\x00\\x00\\x00\\x00\\x00\\x00\\x00\\x00\\x00\\x00\\x00\\x00\\x00\\x00\\x00\\x00\\x00\\x00\\x00\\x00\\x00\\x00\\x00\\x00\\x00\\x00\\x00\\x00\\x00\\x00\\x00\\x00\\x00\\x00\\x00\\x00\\x00\\x00\\x00\\x00\\x00\\x00\\x00\\x00\\x00\\x00\\x00\\x00\\x00\\x00\\x00\\x00\\x00\\x00\\x00\\x00\\x00\\x00\\x00\\x00\\x00\\x00\\x00\\x00\\x00\\x00\\x00\\x00\\x00\\x00\\x00\\x00\\x00\\x00\\x00\\x00\\x00\\x00\\x00\\x00\\x00\\x00'"
      ]
     },
     "execution_count": 51,
     "metadata": {},
     "output_type": "execute_result"
    }
   ],
   "source": [
    "peek('fde519a6ed032c4cd4e9fbab9be61890.tar.enc', 'c0fefe')"
   ]
  },
  {
   "cell_type": "markdown",
   "metadata": {},
   "source": [
    "### Look at all of those zeros!\n",
    "\n",
    "We know that `A XOR 0 = A`\n",
    "\n",
    "So any place in the unencrypted file that contains repeating zeros will contain the key repeated over and over in the encrypted file.\n",
    "\n",
    "We can use that to help find the key without having to brute force it"
   ]
  },
  {
   "cell_type": "code",
   "execution_count": 52,
   "metadata": {},
   "outputs": [],
   "source": [
    "def find_key(file_nm, key_len=3):\n",
    "    # remove file extensions from file name to use as md5 to match\n",
    "    match_str = basename(file_nm).split('.')[0]\n",
    "    num_bytes = 512\n",
    "    with open(file_nm, 'rb') as input_file:\n",
    "        # read bytes from inpute file\n",
    "        raw_bytes = input_file.read(num_bytes)\n",
    "        for i in range(num_bytes - key_len):\n",
    "            # check to see if these bytes contain the key we need\n",
    "            key = raw_bytes[i:i+key_len]\n",
    "            if md5_match(match_str, key):\n",
    "                return key\n",
    "    return None"
   ]
  },
  {
   "cell_type": "code",
   "execution_count": 62,
   "metadata": {},
   "outputs": [],
   "source": [
    "# make sure that we get 'c0fefe' out of our first file\n",
    "assert find_key('fde519a6ed032c4cd4e9fbab9be61890.tar.enc') == b'\\xc0\\xfe\\xfe'"
   ]
  },
  {
   "cell_type": "markdown",
   "metadata": {},
   "source": [
    "### Once we have the key, we can decrypt the file!"
   ]
  },
  {
   "cell_type": "code",
   "execution_count": 68,
   "metadata": {},
   "outputs": [],
   "source": [
    "def decrypt(file_name, key, out_path):\n",
    "    with open(file_name, 'rb') as input_file, open(out_path, 'wb') as output_file:\n",
    "        output_file.write(bytes([b for b in map(lambda raw_byte, key_byte: raw_byte ^ key_byte, input_file.read(), cycle(key_to_bytes(key)))]))\n",
    "\n",
    "        "
   ]
  },
  {
   "cell_type": "code",
   "execution_count": 69,
   "metadata": {},
   "outputs": [],
   "source": [
    "decrypt('fde519a6ed032c4cd4e9fbab9be61890.tar.enc', 'c0fefe', 'fde519a6ed032c4cd4e9fbab9be61890.tar')"
   ]
  },
  {
   "cell_type": "code",
   "execution_count": 99,
   "metadata": {},
   "outputs": [
    {
     "name": "stdout",
     "output_type": "stream",
     "text": [
      "389eb0c70f3a36eeda39510afcb2ea08.tar.enc  porg_decrypt.ipynb\r\n",
      "389.tar\t\t\t\t\t  ransom.pdf\r\n",
      "fde519a6ed032c4cd4e9fbab9be61890.tar\t  thanks.pdf\r\n",
      "fde519a6ed032c4cd4e9fbab9be61890.tar.enc  Untitled.ipynb\r\n",
      "output\r\n"
     ]
    }
   ],
   "source": [
    "!ls"
   ]
  },
  {
   "cell_type": "code",
   "execution_count": 74,
   "metadata": {},
   "outputs": [
    {
     "name": "stdout",
     "output_type": "stream",
     "text": [
      "ransom.pdf\r\n"
     ]
    }
   ],
   "source": [
    "!tar -xvf fde519a6ed032c4cd4e9fbab9be61890.tar"
   ]
  },
  {
   "cell_type": "code",
   "execution_count": 104,
   "metadata": {},
   "outputs": [
    {
     "data": {
      "text/html": [
       "\n",
       "        <iframe\n",
       "            width=\"800\"\n",
       "            height=\"1100\"\n",
       "            src=\"ransom.pdf\"\n",
       "            frameborder=\"0\"\n",
       "            allowfullscreen\n",
       "        ></iframe>\n",
       "        "
      ],
      "text/plain": [
       "<IPython.lib.display.IFrame at 0x7fd4d84ef278>"
      ]
     },
     "execution_count": 104,
     "metadata": {},
     "output_type": "execute_result"
    }
   ],
   "source": [
    "from IPython.display import IFrame\n",
    "IFrame('ransom.pdf', width=800, height=1100)"
   ]
  },
  {
   "cell_type": "markdown",
   "metadata": {},
   "source": [
    "### Put it all together and we can decrypt the other file"
   ]
  },
  {
   "cell_type": "code",
   "execution_count": 96,
   "metadata": {},
   "outputs": [
    {
     "name": "stdout",
     "output_type": "stream",
     "text": [
      "found key: b'\\x0b\\xee\\xf0'\n"
     ]
    }
   ],
   "source": [
    "key = find_key('389eb0c70f3a36eeda39510afcb2ea08.tar.enc')\n",
    "print('found key: ' + str(key))\n",
    "decrypt('389eb0c70f3a36eeda39510afcb2ea08.tar.enc', key, '389.tar')"
   ]
  },
  {
   "cell_type": "code",
   "execution_count": 97,
   "metadata": {},
   "outputs": [
    {
     "name": "stdout",
     "output_type": "stream",
     "text": [
      "thanks.pdf\r\n"
     ]
    }
   ],
   "source": [
    "!tar -xvf 389.tar"
   ]
  },
  {
   "cell_type": "code",
   "execution_count": 106,
   "metadata": {},
   "outputs": [
    {
     "data": {
      "text/html": [
       "\n",
       "        <iframe\n",
       "            width=\"800\"\n",
       "            height=\"1000\"\n",
       "            src=\"thanks.pdf\"\n",
       "            frameborder=\"0\"\n",
       "            allowfullscreen\n",
       "        ></iframe>\n",
       "        "
      ],
      "text/plain": [
       "<IPython.lib.display.IFrame at 0x7fd4d84ef630>"
      ]
     },
     "execution_count": 106,
     "metadata": {},
     "output_type": "execute_result"
    }
   ],
   "source": [
    "from IPython.display import IFrame\n",
    "IFrame('thanks.pdf', width=800, height=1000)"
   ]
  },
  {
   "cell_type": "code",
   "execution_count": null,
   "metadata": {},
   "outputs": [],
   "source": []
  }
 ],
 "metadata": {
  "celltoolbar": "Raw Cell Format",
  "kernelspec": {
   "display_name": "Python 3",
   "language": "python",
   "name": "python3"
  },
  "language_info": {
   "codemirror_mode": {
    "name": "ipython",
    "version": 3
   },
   "file_extension": ".py",
   "mimetype": "text/x-python",
   "name": "python",
   "nbconvert_exporter": "python",
   "pygments_lexer": "ipython3",
   "version": "3.6.5"
  }
 },
 "nbformat": 4,
 "nbformat_minor": 2
}
